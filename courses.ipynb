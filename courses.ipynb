{
 "cells": [
  {
   "cell_type": "markdown",
   "id": "644bc35b-b559-407b-b18e-8d0b9c1df0a2",
   "metadata": {},
   "source": [
    "# Courses"
   ]
  },
  {
   "cell_type": "code",
   "execution_count": 103,
   "id": "93e08a99-71ce-45b5-817a-baee1589125b",
   "metadata": {},
   "outputs": [],
   "source": [
    "## General Imports\n",
    "## =================================================================================================== ##\n",
    "\n",
    "from pymongo import MongoClient\n",
    "import numpy as np\n",
    "import pandas as pd\n",
    "import matplotlib.pyplot as plt\n",
    "import missingno as msno\n",
    "\n",
    "# concatenate lists\n",
    "from itertools import chain\n",
    "\n",
    "import re\n",
    "\n",
    "# plotting\n",
    "import seaborn as sns\n",
    "sns.set_style('darkgrid')\n",
    "\n",
    "import warnings\n",
    "\n",
    "# warning ignore\n",
    "warnings.filterwarnings('ignore')\n",
    "pd.options.mode.chained_assignment = None  # default='warn'"
   ]
  },
  {
   "cell_type": "code",
   "execution_count": 18,
   "id": "567b90ff-3307-4771-b355-5542571f30a4",
   "metadata": {},
   "outputs": [],
   "source": [
    "## Database Conecction \n",
    "## =================================================================================================== ##\n",
    "\n",
    "def get_courses():\n",
    "\n",
    "    host = 'cluster-tt-0-dp2to.gcp.mongodb.net/formacion?retryWrites=true&ssl=true&ssl_cert_reqs=CERT_NONE'\n",
    "    user = 'formacion'\n",
    "    password = '0sHBbtH50yWcT4wO'\n",
    "    uri = f'mongodb+srv://{user}:{password}@{host}'\n",
    "    client = MongoClient(uri)\n",
    "\n",
    "    db = client['formacion']\n",
    "    collection_courses = db.cursos.find()\n",
    "    courses = list(collection_courses)\n",
    "    return courses"
   ]
  },
  {
   "cell_type": "code",
   "execution_count": 21,
   "id": "96619af5-e43d-42cf-b7c3-0afb7b2ad1ba",
   "metadata": {
    "tags": []
   },
   "outputs": [
    {
     "data": {
      "text/html": [
       "<div>\n",
       "<style scoped>\n",
       "    .dataframe tbody tr th:only-of-type {\n",
       "        vertical-align: middle;\n",
       "    }\n",
       "\n",
       "    .dataframe tbody tr th {\n",
       "        vertical-align: top;\n",
       "    }\n",
       "\n",
       "    .dataframe thead th {\n",
       "        text-align: right;\n",
       "    }\n",
       "</style>\n",
       "<table border=\"1\" class=\"dataframe\">\n",
       "  <thead>\n",
       "    <tr style=\"text-align: right;\">\n",
       "      <th></th>\n",
       "      <th>_id</th>\n",
       "      <th>title</th>\n",
       "      <th>url</th>\n",
       "      <th>duration</th>\n",
       "      <th>shortDescription</th>\n",
       "      <th>description</th>\n",
       "    </tr>\n",
       "  </thead>\n",
       "  <tbody>\n",
       "    <tr>\n",
       "      <th>0</th>\n",
       "      <td>6193f1fbee942f04c47e8ed8</td>\n",
       "      <td>Descripción de los componentes principales de ...</td>\n",
       "      <td>https://docs.microsoft.com/es-es/learn/modules...</td>\n",
       "      <td>27 min.</td>\n",
       "      <td>Descripción de los componentes principales de ...</td>\n",
       "      <td>{'tags': ['Principiante', 'Administrador', 'De...</td>\n",
       "    </tr>\n",
       "    <tr>\n",
       "      <th>1</th>\n",
       "      <td>6193f1fbee942f04c47e8edb</td>\n",
       "      <td>Introducción a los aspectos básicos de Azure</td>\n",
       "      <td>https://docs.microsoft.com/es-es/learn/modules...</td>\n",
       "      <td>43 min.</td>\n",
       "      <td>Introducción a los aspectos básicos de Azure</td>\n",
       "      <td>{'tags': ['Principiante', 'Administrador', 'De...</td>\n",
       "    </tr>\n",
       "    <tr>\n",
       "      <th>2</th>\n",
       "      <td>6193f1fbee942f04c47e8edf</td>\n",
       "      <td>Exploración de los servicios de Azure Compute</td>\n",
       "      <td>https://docs.microsoft.com/es-es/learn/modules...</td>\n",
       "      <td>52 min.</td>\n",
       "      <td>Exploración de los servicios de Azure Compute</td>\n",
       "      <td>{'tags': ['Principiante', 'Administrador', 'De...</td>\n",
       "    </tr>\n",
       "    <tr>\n",
       "      <th>3</th>\n",
       "      <td>6193f1fbee942f04c47e8ee0</td>\n",
       "      <td>Exploración de los servicios de análisis y bas...</td>\n",
       "      <td>https://docs.microsoft.com/es-es/learn/modules...</td>\n",
       "      <td>43 min.</td>\n",
       "      <td>Exploración de los servicios de análisis y bas...</td>\n",
       "      <td>{'tags': ['Principiante', 'Administrador', 'De...</td>\n",
       "    </tr>\n",
       "    <tr>\n",
       "      <th>4</th>\n",
       "      <td>6193f1fbee942f04c47e8ee1</td>\n",
       "      <td>Exploración de los servicios de red de Azure</td>\n",
       "      <td>https://docs.microsoft.com/es-es/learn/modules...</td>\n",
       "      <td>38 min.</td>\n",
       "      <td>Exploración de los servicios de red de Azure</td>\n",
       "      <td>{'tags': ['Principiante', 'Administrador', 'De...</td>\n",
       "    </tr>\n",
       "  </tbody>\n",
       "</table>\n",
       "</div>"
      ],
      "text/plain": [
       "                        _id  \\\n",
       "0  6193f1fbee942f04c47e8ed8   \n",
       "1  6193f1fbee942f04c47e8edb   \n",
       "2  6193f1fbee942f04c47e8edf   \n",
       "3  6193f1fbee942f04c47e8ee0   \n",
       "4  6193f1fbee942f04c47e8ee1   \n",
       "\n",
       "                                               title  \\\n",
       "0  Descripción de los componentes principales de ...   \n",
       "1       Introducción a los aspectos básicos de Azure   \n",
       "2      Exploración de los servicios de Azure Compute   \n",
       "3  Exploración de los servicios de análisis y bas...   \n",
       "4       Exploración de los servicios de red de Azure   \n",
       "\n",
       "                                                 url duration  \\\n",
       "0  https://docs.microsoft.com/es-es/learn/modules...  27 min.   \n",
       "1  https://docs.microsoft.com/es-es/learn/modules...  43 min.   \n",
       "2  https://docs.microsoft.com/es-es/learn/modules...  52 min.   \n",
       "3  https://docs.microsoft.com/es-es/learn/modules...  43 min.   \n",
       "4  https://docs.microsoft.com/es-es/learn/modules...  38 min.   \n",
       "\n",
       "                                    shortDescription  \\\n",
       "0  Descripción de los componentes principales de ...   \n",
       "1       Introducción a los aspectos básicos de Azure   \n",
       "2      Exploración de los servicios de Azure Compute   \n",
       "3  Exploración de los servicios de análisis y bas...   \n",
       "4       Exploración de los servicios de red de Azure   \n",
       "\n",
       "                                         description  \n",
       "0  {'tags': ['Principiante', 'Administrador', 'De...  \n",
       "1  {'tags': ['Principiante', 'Administrador', 'De...  \n",
       "2  {'tags': ['Principiante', 'Administrador', 'De...  \n",
       "3  {'tags': ['Principiante', 'Administrador', 'De...  \n",
       "4  {'tags': ['Principiante', 'Administrador', 'De...  "
      ]
     },
     "execution_count": 21,
     "metadata": {},
     "output_type": "execute_result"
    }
   ],
   "source": [
    "# courses data\n",
    "courses_df = pd.DataFrame(get_courses())\n",
    "courses_df.head(5)"
   ]
  },
  {
   "cell_type": "code",
   "execution_count": 25,
   "id": "4d11a19d-fac4-44ec-a7c9-ffe065547775",
   "metadata": {},
   "outputs": [
    {
     "name": "stdout",
     "output_type": "stream",
     "text": [
      "The dataset is compounded of: 3252 courses\n"
     ]
    }
   ],
   "source": [
    "print(f'The dataset is compounded of: {courses_df.shape[0]} courses')"
   ]
  },
  {
   "cell_type": "code",
   "execution_count": 20,
   "id": "ea7c36c8-7d3c-4758-a3b8-308a6a7dec79",
   "metadata": {},
   "outputs": [
    {
     "data": {
      "image/png": "[encoded data removed]",
      "text/plain": [
       "<Figure size 1800x720 with 2 Axes>"
      ]
     },
     "metadata": {
      "needs_background": "light"
     },
     "output_type": "display_data"
    }
   ],
   "source": [
    "msno.matrix(courses_df);"
   ]
  },
  {
   "cell_type": "code",
   "execution_count": 49,
   "id": "52940612-af2f-41c8-8108-3902e528dc4e",
   "metadata": {},
   "outputs": [
    {
     "name": "stdout",
     "output_type": "stream",
     "text": [
      "Number of unique name of courses: 3236\n"
     ]
    }
   ],
   "source": [
    "titles = courses_df['title'].value_counts().shape[0]\n",
    "print(f'Number of unique name of courses: {titles}')"
   ]
  },
  {
   "cell_type": "code",
   "execution_count": 40,
   "id": "cf6b9b51-6933-4654-ada1-dc435160e371",
   "metadata": {},
   "outputs": [
    {
     "name": "stdout",
     "output_type": "stream",
     "text": [
      "Number of unique tags: 306\n"
     ]
    }
   ],
   "source": [
    "tags = courses_df['description'].apply(lambda description: description['tags']).tolist()\n",
    "tags = list(chain(*tags))\n",
    "tags = list(set(tags))\n",
    "print(f'Number of unique tags: {len(tags)}')"
   ]
  },
  {
   "cell_type": "code",
   "execution_count": 41,
   "id": "afbea0fd-f596-4c6c-b03a-e0ca84d60062",
   "metadata": {
    "tags": []
   },
   "outputs": [
    {
     "data": {
      "text/plain": [
       "['Windows',\n",
       " 'Visual Studio',\n",
       " 'Human Resources',\n",
       " 'SQL\\xa0Server en Virtual Machines',\n",
       " 'SignalR Service',\n",
       " 'HPC Cache',\n",
       " 'Quantum',\n",
       " 'SQL Database',\n",
       " 'Data Box Family',\n",
       " 'Functional Consultant',\n",
       " 'Support Engineer',\n",
       " 'Storage',\n",
       " 'Azure Advisor',\n",
       " 'Firewall Manager',\n",
       " 'Cognitive Search',\n",
       " 'Outlook',\n",
       " 'Application Gateway',\n",
       " 'Lector inmersivo',\n",
       " 'Azure Portal',\n",
       " 'Microsoft\\xa0Cloud para el sector sanitario',\n",
       " 'Microsoft Cloud for Healthcare',\n",
       " 'DevTest Labs',\n",
       " 'Remote Rendering',\n",
       " 'Load Balancer',\n",
       " 'Finance',\n",
       " 'Active\\xa0Directory External Identities ',\n",
       " 'Return to the Workplace',\n",
       " 'Profesor de enseñanza superior',\n",
       " 'SQL Edge',\n",
       " 'DevOps Engineer',\n",
       " 'Sales',\n",
       " 'Machine Learning',\n",
       " 'DDos Protection',\n",
       " 'Microsoft\\xa0Power\\xa0Platform',\n",
       " 'Microsoft Cloud for Financial Services',\n",
       " 'Cloud Services',\n",
       " 'Servicio de cadena de bloques',\n",
       " 'Blob Storage',\n",
       " 'Office 365',\n",
       " 'ASP.NET Core',\n",
       " 'Database Administrator',\n",
       " 'Analista de riesgos',\n",
       " '.NET',\n",
       " 'Intermedio',\n",
       " 'App Service',\n",
       " '.NET Core',\n",
       " 'Web Apps',\n",
       " 'Private Link',\n",
       " 'HDInsight',\n",
       " 'Microsoft MakeCode']"
      ]
     },
     "execution_count": 41,
     "metadata": {},
     "output_type": "execute_result"
    }
   ],
   "source": [
    "tags[0:50]"
   ]
  },
  {
   "cell_type": "code",
   "execution_count": 116,
   "id": "a775fcf6-6a88-4394-8d20-bf342374afad",
   "metadata": {},
   "outputs": [
    {
     "data": {
      "text/plain": [
       "(3252, 1)"
      ]
     },
     "execution_count": 116,
     "metadata": {},
     "output_type": "execute_result"
    }
   ],
   "source": [
    "def numeric_char(text):\n",
    "    return int(re.sub('[^0-9]','', text))\n",
    "\n",
    "duration = courses_df['duration'].apply(numeric_char).to_frame()\n",
    "duration.shape"
   ]
  },
  {
   "cell_type": "code",
   "execution_count": 110,
   "id": "c1926554-bb4f-47e6-b6cc-6fb4db1e5743",
   "metadata": {
    "tags": []
   },
   "outputs": [
    {
     "data": {
      "image/png": "[encoded data removed]",
      "text/plain": [
       "<Figure size 1296x432 with 1 Axes>"
      ]
     },
     "metadata": {},
     "output_type": "display_data"
    }
   ],
   "source": [
    "## Plot\n",
    "## =================================================================================================== ##\n",
    "\n",
    "time = duration['duration'].value_counts().index\n",
    "count = duration['duration'].value_counts().values\n",
    "\n",
    "plt.figure(figsize=(18, 6))\n",
    "ax=sns.barplot(\n",
    "    x=time,\n",
    "    y=count,\n",
    "    alpha=0.8\n",
    ")\n",
    "plt.xticks(fontsize=8)\n",
    "ax.bar_label(ax.containers[0])\n",
    "plt.title('experiences-count')\n",
    "plt.xlabel('experiences')\n",
    "plt.ylabel('count');\n",
    "plt.xlim(-0.5, 100);"
   ]
  },
  {
   "cell_type": "code",
   "execution_count": 113,
   "id": "0a14689a-baac-4a66-94c5-b2939b0f63f1",
   "metadata": {},
   "outputs": [
    {
     "data": {
      "image/png": "[encoded data removed]",
      "text/plain": [
       "<Figure size 1080x360 with 1 Axes>"
      ]
     },
     "metadata": {},
     "output_type": "display_data"
    }
   ],
   "source": [
    "n_bins = 200\n",
    "\n",
    "plt.figure(figsize=(15, 5))\n",
    "\n",
    "plt.subplot(121)\n",
    "sns.histplot(data=duration['duration'], bins=n_bins, color=\"#3182bd\", kde=True)\n",
    "plt.title('time-count')\n",
    "plt.xlabel('time (min.)')\n",
    "plt.ylabel('counts');"
   ]
  },
  {
   "cell_type": "code",
   "execution_count": 115,
   "id": "97f5c938-20e6-400f-a1c8-1da33e4c1d67",
   "metadata": {},
   "outputs": [
    {
     "name": "stdout",
     "output_type": "stream",
     "text": [
      "Percentile 25%: 26 times.\n",
      "Percentile 50%: 40 times.\n",
      "Percentile 75%: 59 times.\n",
      "Percentile 85%: 142 times.\n",
      "The median is: 40 times.\n"
     ]
    }
   ],
   "source": [
    "#percentiles 25/50/75 & median\n",
    "per_25 = np.percentile(duration['duration'].dropna(), 25)\n",
    "per_50 = np.percentile(duration['duration'].dropna(), 50)\n",
    "per_75 = np.percentile(duration['duration'].dropna(), 75)\n",
    "per_85 = np.percentile(duration['duration'].dropna(), 85)\n",
    "median = duration['duration'].median()\n",
    "\n",
    "print(f'Percentile 25%: {per_25:.0f} times.') \n",
    "print(f'Percentile 50%: {per_50:.0f} times.') \n",
    "print(f'Percentile 75%: {per_75:.0f} times.')\n",
    "print(f'Percentile 85%: {per_85:.0f} times.')\n",
    "print(f'The median is: {median:.0f} times.')"
   ]
  }
 ],
 "metadata": {
  "kernelspec": {
   "display_name": "Python 3 (ipykernel)",
   "language": "python",
   "name": "python3"
  },
  "language_info": {
   "codemirror_mode": {
    "name": "ipython",
    "version": 3
   },
   "file_extension": ".py",
   "mimetype": "text/x-python",
   "name": "python",
   "nbconvert_exporter": "python",
   "pygments_lexer": "ipython3",
   "version": "3.8.12"
  }
 },
 "nbformat": 4,
 "nbformat_minor": 5
}
